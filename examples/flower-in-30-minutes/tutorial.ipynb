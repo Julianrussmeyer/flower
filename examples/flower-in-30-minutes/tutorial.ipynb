{
 "cells": [
  {
   "attachments": {},
   "cell_type": "markdown",
   "metadata": {},
   "source": [
    "Welcome to the 30 minutes Flower federated learning tutorial!\n",
    "\n",
    "In this tutorial you will implement your first Federated Learning project using [Flower](https://flower.ai/).\n",
    "\n",
    "🧑‍🏫 This tutorial starts at zero and expects no familiarity with federated learning. Only a basic understanding of data science and Python programming is assumed. A minimal understanding of ML is not required but if you already know about it, nothing is stopping your from modifying this code as you see fit!\n",
    "\n",
    "> [Star Flower on GitHub](https://github.com/adap/flower) ⭐️ and join the Flower community on Flower Discuss and the Flower Slack to connect, ask questions, and get help:\n",
    "> - [Join Flower Discuss](https://discuss.flower.ai/) We'd love to hear from you in the `Introduction` topic! If anything is unclear, post in `Flower Help - Beginners`.\n",
    "> - [Join Flower Slack](https://flower.ai/join-slack) We'd love to hear from you in the `#introductions` channel! If anything is unclear, head over to the `#questions` channel.\n",
    "\n",
    "Let's get started!"
   ]
  },
  {
   "cell_type": "markdown",
   "metadata": {},
   "source": [
    "## Complementary Content\n",
    "\n",
    "But before do so, let me point you to a few video tutorials in the [Flower Youtube channel](https://www.youtube.com/@flowerlabs) that you might want to check out after this tutorial. We post new videos fairly regularly with new content:\n",
    "* **[VIDEO]** quickstart-tensorflow: [15-min video on how to start with Flower + Tensorflow/Keras](https://www.youtube.com/watch?v=FGTc2TQq7VM)\n",
    "* **[VIDEO]** quickstart-pytorch: [20-min video on how to start with Flower + PyTorch](https://www.youtube.com/watch?v=jOmmuzMIQ4c)\n",
    "* **[VIDEO]**  Flower simulation mini-series: [9 line-by-line video tutorials](https://www.youtube.com/watch?v=cRebUIGB5RU&list=PLNG4feLHqCWlnj8a_E1A_n5zr2-8pafTB)"
   ]
  },
  {
   "attachments": {},
   "cell_type": "markdown",
   "metadata": {},
   "source": [
    "# Environment Setup\n",
    "\n",
    "Now let's really begin with this tutorial!\n",
    "\n",
    "To start working with Flower, very little is required once you have activated your Python environment (e.g. via `conda`, `virtualenv`, `pyenv`, etc). If you are running this code on Colab, there is really nothing to do except to install Flower and other dependencies. The steps below have been verified to run in Colab. Let's first, install Flower, then the ML framework of your choice and extra dependencies you might want to use.\n",
    "\n",
    "## Installing Flower\n",
    "\n",
    "You can install flower very conveniently from `pip`:"
   ]
  },
  {
   "cell_type": "code",
   "execution_count": null,
   "metadata": {},
   "outputs": [],
   "source": [
    "# depending on your shell, you might need to add `\\` before `[` and `]`.\n",
    "!pip install -q flwr[simulation] flwr-datasets"
   ]
  },
  {
   "attachments": {},
   "cell_type": "markdown",
   "metadata": {},
   "source": [
    "We will be using the _simulation_ model in Flower, which allows you to run a large number of clients without the overheads of manually managing devices. This is achieved via the `Virtual Client Engine`, the core component that runs [FL Simulations](https://flower.ai/docs/framework/how-to-run-simulations.html) with Flower. With simulation, you can dynamically scale your experiments whether you run the code on your laptop, a machine with a single GPU, a server with multiple GPUs os even on a cluster with multiple servers. The `Virtual Client Engine` handles everything transparently and it allows you to specify how many resources (e.g. CPU cores, GPU VRAM) should be assigned to each virtual client."
   ]
  },
  {
   "attachments": {},
   "cell_type": "markdown",
   "metadata": {},
   "source": [
    "## Install your ML framework\n",
    "\n",
    "Flower is agnostic to your choice of ML Framework. Flower works with `PyTorch`, `Tensorflow`, `NumPy`, `🤗 Transformers`, `MXNet`, `JAX`, `scikit-learn`, `fastai`, `Pandas`. Flower also supports all major platforms: `iOS`, `Android` and plain `C++`. You can find a _quickstart- example for each of the above in the [Flower Repository](https://github.com/adap/flower/tree/main/examples) inside the `examples/` directory. And check the [Flower Documentation](https://flower.ai/docs/) for even more learning materials.\n",
    "\n",
    "In this tutorial we are going to use PyTorch, so let's install a recent version. In this tutorial we'll use a small model so using CPU only training will suffice (this will also prevent Colab from abruptly terminating your experiment if resource limits are exceeded)"
   ]
  },
  {
   "cell_type": "code",
   "execution_count": null,
   "metadata": {
    "colab": {
     "base_uri": "https://localhost:8080/"
    },
    "outputId": "7192138a-8c87-4d9a-f726-af1038ad264c"
   },
   "outputs": [],
   "source": [
    "# you might see a warning after running the command below, this can be ignored\n",
    "# if you are running this outside Colab, you probably need to adjust the command below\n",
    "!pip install torch==1.13.1+cpu torchvision==0.14.1+cpu torchaudio==0.13.1 --extra-index-url https://download.pytorch.org/whl/cpu"
   ]
  },
  {
   "attachments": {},
   "cell_type": "markdown",
   "metadata": {},
   "source": [
    "We are going to install some other dependencies you are likely familiar with. We'll use these to make plots."
   ]
  },
  {
   "cell_type": "code",
   "execution_count": null,
   "metadata": {
    "colab": {
     "base_uri": "https://localhost:8080/"
    },
    "outputId": "58b7af77-609f-4118-bd5b-5629a4b5a296"
   },
   "outputs": [],
   "source": [
    "!pip install matplotlib"
   ]
  },
  {
   "attachments": {},
   "cell_type": "markdown",
   "metadata": {},
   "source": [
    "# Centralised training: the old way of doing ML"
   ]
  },
  {
   "attachments": {},
   "cell_type": "markdown",
   "metadata": {},
   "source": [
    "Let's begin by creating a simple (but complete) training loop as it is commonly done in centralised setups. Starting our tutorial in this way will allow us to very clearly identify which parts of a typical ML pipeline are common to both centralised and federated training and which ones are poles a part.\n",
    "\n",
    "For this tutorial we'll design a image classification pipeline for [MNIST digits](https://en.wikipedia.org/wiki/MNIST_database) and using a simple CNN model as the network to train. The MNIST dataset is comprised of `28x28` greyscale images with digits from 0 to 9 (i.e. 10 classes in total)\n",
    "\n",
    "\n",
    "## A dataset\n",
    "\n",
    "Let's begin by constructing the dataset. We will use Flower Datasets to construct the dataset. For more information, read the documentation [here](https://flower.ai/docs/datasets/how-to-use-with-pytorch.html)."
   ]
  },
  {
   "cell_type": "code",
   "execution_count": 1,
   "metadata": {},
   "outputs": [],
   "source": [
    "# we naturally first need to import torch and torchvision\n",
    "import torch\n",
    "from torch.utils.data import DataLoader\n",
    "from torchvision.transforms import ToTensor, Normalize, Compose\n",
    "from flwr_datasets import FederatedDataset\n",
    "\n",
    "\n",
    "def get_mnist():\n",
    "    \"\"\"This function downloads the MNIST dataset into the `data_path`\n",
    "    directory if it is not there already. We load the training and \n",
    "    test splits in this function.\"\"\"\n",
    "\n",
    "    fds = FederatedDataset(dataset=\"mnist\", partitioners={\"train\": 100})\n",
    "    trainset = fds.load_split(\"train\")\n",
    "    testset = fds.load_split(\"test\")\n",
    "\n",
    "    return trainset, testset"
   ]
  },
  {
   "attachments": {},
   "cell_type": "markdown",
   "metadata": {},
   "source": [
    "Let's run the code above and do some visualisations to understand better the data we are working with !"
   ]
  },
  {
   "cell_type": "code",
   "execution_count": 2,
   "metadata": {},
   "outputs": [
    {
     "name": "stderr",
     "output_type": "stream",
     "text": [
      "/Users/danielnugraha/.pyenv/versions/3.10.13/envs/flower-3.10.13/lib/python3.10/site-packages/datasets/load.py:1486: FutureWarning: The repository for mnist contains custom code which must be executed to correctly load the dataset. You can inspect the repository content at https://hf.co/datasets/mnist\n",
      "You can avoid this message in future by passing the argument `trust_remote_code=True`.\n",
      "Passing `trust_remote_code=True` will be mandatory to load this dataset from the next major release of `datasets`.\n",
      "  warnings.warn(\n"
     ]
    }
   ],
   "source": [
    "trainset, testset = get_mnist()"
   ]
  },
  {
   "attachments": {},
   "cell_type": "markdown",
   "metadata": {},
   "source": [
    "We can have a quick overview of our datasets by just typing the object on the command line. For instance, below you can see that the `trainset` has 60k training examples and will use the transformation rule we defined above in `get_mnist()`."
   ]
  },
  {
   "cell_type": "code",
   "execution_count": null,
   "metadata": {
    "colab": {
     "base_uri": "https://localhost:8080/"
    },
    "outputId": "f10b649f-3cee-4e86-c7ff-94bd1fd3e082"
   },
   "outputs": [],
   "source": [
    "trainset"
   ]
  },
  {
   "attachments": {},
   "cell_type": "markdown",
   "metadata": {},
   "source": [
    "Let's create a more insightful visualisation. First let's see the distribution over the labels by constructing a histogram. Then, let's visualise some training examples !"
   ]
  },
  {
   "cell_type": "code",
   "execution_count": 3,
   "metadata": {
    "colab": {
     "base_uri": "https://localhost:8080/",
     "height": 490
    },
    "outputId": "c8d0f4c0-60cd-4c58-bc91-3b061dae8046"
   },
   "outputs": [
    {
     "data": {
      "text/plain": [
       "([<matplotlib.axis.XTick at 0x314c98460>,\n",
       "  <matplotlib.axis.XTick at 0x314c98430>,\n",
       "  <matplotlib.axis.XTick at 0x314c47bb0>,\n",
       "  <matplotlib.axis.XTick at 0x31764a2f0>,\n",
       "  <matplotlib.axis.XTick at 0x31764ada0>,\n",
       "  <matplotlib.axis.XTick at 0x31764b850>,\n",
       "  <matplotlib.axis.XTick at 0x317690340>,\n",
       "  <matplotlib.axis.XTick at 0x31764a530>,\n",
       "  <matplotlib.axis.XTick at 0x317691030>,\n",
       "  <matplotlib.axis.XTick at 0x317691b10>],\n",
       " [Text(8, 0, '8'),\n",
       "  Text(7, 0, '7'),\n",
       "  Text(1, 0, '1'),\n",
       "  Text(6, 0, '6'),\n",
       "  Text(0, 0, '0'),\n",
       "  Text(3, 0, '3'),\n",
       "  Text(4, 0, '4'),\n",
       "  Text(2, 0, '2'),\n",
       "  Text(9, 0, '9'),\n",
       "  Text(5, 0, '5')])"
      ]
     },
     "execution_count": 3,
     "metadata": {},
     "output_type": "execute_result"
    },
    {
     "data": {
      "image/png": "[encoded data removed]",
      "text/plain": [
       "<Figure size 640x480 with 1 Axes>"
      ]
     },
     "metadata": {},
     "output_type": "display_data"
    }
   ],
   "source": [
    "import matplotlib.pyplot as plt\n",
    "from collections import Counter\n",
    "\n",
    "\n",
    "# construct histogram\n",
    "all_labels = trainset[\"label\"]\n",
    "all_label_counts = Counter(all_labels)\n",
    "\n",
    "# visualise histogram\n",
    "bar = plt.bar(all_label_counts.keys(), all_label_counts.values())\n",
    "plt.bar_label(bar)\n",
    "\n",
    "# plot formatting\n",
    "plt.xticks([label for label in all_label_counts.keys()])"
   ]
  },
  {
   "attachments": {},
   "cell_type": "markdown",
   "metadata": {},
   "source": [
    "Let's visualise 32 images from the dataset\n"
   ]
  },
  {
   "cell_type": "code",
   "execution_count": 4,
   "metadata": {},
   "outputs": [],
   "source": [
    "import random\n",
    "import numpy as np\n",
    "from PIL import Image\n",
    "import io\n",
    "\n",
    "\n",
    "def visualise_n_random_examples(trainset_, n: int, verbose: bool = True):\n",
    "    trainset_data = [\n",
    "        Image.open(io.BytesIO(entry[0].as_py())) for entry in trainset_.data[0]\n",
    "    ]\n",
    "    idx = list(range(len(trainset_data)))\n",
    "    random.shuffle(idx)\n",
    "    idx = idx[:n]\n",
    "    if verbose:\n",
    "        print(f\"will display images with idx: {idx}\")\n",
    "\n",
    "    # construct canvas\n",
    "    num_cols = 8\n",
    "    num_rows = int(np.ceil(len(idx) / num_cols))\n",
    "    fig, axs = plt.subplots(figsize=(16, num_rows * 2), nrows=num_rows, ncols=num_cols)\n",
    "\n",
    "    # display images on canvas\n",
    "    for c_i, i in enumerate(idx):\n",
    "        axs.flat[c_i].imshow(trainset_data[i], cmap=\"gray\")"
   ]
  },
  {
   "cell_type": "code",
   "execution_count": 5,
   "metadata": {
    "colab": {
     "base_uri": "https://localhost:8080/",
     "height": 715
    },
    "outputId": "4e0988a8-388d-4acf-882b-089e4ea887bf"
   },
   "outputs": [
    {
     "name": "stdout",
     "output_type": "stream",
     "text": [
      "will display images with idx: [25851, 28866, 22844, 53092, 20365, 3865, 53149, 8470, 38145, 14175, 43674, 11244, 4502, 37909, 54191, 12194, 19477, 9872, 43094, 2621, 5928, 30315, 39538, 40283, 9625, 44348, 44030, 27512, 51316, 55063, 7023, 33949]\n"
     ]
    },
    {
     "data": {
      "image/png": "[encoded data removed]",
      "text/plain": [
       "<Figure size 1600x800 with 32 Axes>"
      ]
     },
     "metadata": {},
     "output_type": "display_data"
    }
   ],
   "source": [
    "# it is likely that the plot this function will generate looks familiar to other plots you might have generated before\n",
    "# or you might have encountered in other tutorials. So far, we aren't doing anything new, Federated Learning will start soon!\n",
    "visualise_n_random_examples(trainset, n=32)"
   ]
  },
  {
   "attachments": {},
   "cell_type": "markdown",
   "metadata": {},
   "source": [
    "# A CNN architecture\n",
    "\n",
    "This tutorial is not so much about novel architectural designs so we keep things simple and make use of a typical CNN that is adequate for the MNIST image classification task.\n",
    "\n"
   ]
  },
  {
   "cell_type": "code",
   "execution_count": 6,
   "metadata": {},
   "outputs": [],
   "source": [
    "import torch.nn as nn\n",
    "import torch.nn.functional as F\n",
    "\n",
    "\n",
    "class Net(nn.Module):\n",
    "    def __init__(self, num_classes: int) -> None:\n",
    "        super(Net, self).__init__()\n",
    "        self.conv1 = nn.Conv2d(1, 6, 5)\n",
    "        self.pool = nn.MaxPool2d(2, 2)\n",
    "        self.conv2 = nn.Conv2d(6, 16, 5)\n",
    "        self.fc1 = nn.Linear(16 * 4 * 4, 120)\n",
    "        self.fc2 = nn.Linear(120, 84)\n",
    "        self.fc3 = nn.Linear(84, num_classes)\n",
    "\n",
    "    def forward(self, x: torch.Tensor) -> torch.Tensor:\n",
    "        x = self.pool(F.relu(self.conv1(x)))\n",
    "        x = self.pool(F.relu(self.conv2(x)))\n",
    "        x = x.view(-1, 16 * 4 * 4)\n",
    "        x = F.relu(self.fc1(x))\n",
    "        x = F.relu(self.fc2(x))\n",
    "        x = self.fc3(x)\n",
    "        return x"
   ]
  },
  {
   "attachments": {},
   "cell_type": "markdown",
   "metadata": {},
   "source": [
    "Similarly to what we did with the dataset you could inspect the model in various ways. We can, for instance, count the number of model parameters."
   ]
  },
  {
   "cell_type": "code",
   "execution_count": 7,
   "metadata": {
    "colab": {
     "base_uri": "https://localhost:8080/"
    },
    "outputId": "67d01ab4-cdd9-4661-8f01-eaa9aabf786d"
   },
   "outputs": [
    {
     "name": "stdout",
     "output_type": "stream",
     "text": [
      "num_parameters = 44426\n"
     ]
    }
   ],
   "source": [
    "model = Net(num_classes=10)\n",
    "num_parameters = sum(value.numel() for value in model.state_dict().values())\n",
    "print(f\"{num_parameters = }\")"
   ]
  },
  {
   "attachments": {},
   "cell_type": "markdown",
   "metadata": {},
   "source": [
    "## The Training Loop\n",
    "\n",
    "A minimal training loop in PyTorch can be constructed with three functions:\n",
    "*  `train()` that will train the model given a dataloader.\n",
    "* `test()` that will be used to evaluate the performance of the model on held-out data, e.g., a training set.\n",
    "* `run_centralised()` which will define additional elements (e.g. the optimiser) and run the training loop over N epochs.\n",
    "\n",
    "Let's construct these functions!\n"
   ]
  },
  {
   "cell_type": "code",
   "execution_count": 8,
   "metadata": {},
   "outputs": [],
   "source": [
    "from tqdm import tqdm\n",
    "\n",
    "\n",
    "def train(net, trainloader, optimizer, epochs):\n",
    "    \"\"\"Train the network on the training set.\"\"\"\n",
    "    criterion = torch.nn.CrossEntropyLoss()\n",
    "    net.train()\n",
    "    for _ in range(epochs):\n",
    "        for batch in tqdm(trainloader, \"Training\"):\n",
    "            images, labels = batch[\"image\"], batch[\"label\"]\n",
    "            optimizer.zero_grad()\n",
    "            loss = criterion(net(images), labels)\n",
    "            loss.backward()\n",
    "            optimizer.step()\n",
    "    return net\n",
    "\n",
    "\n",
    "def test(net, testloader):\n",
    "    \"\"\"Validate the network on the entire test set.\"\"\"\n",
    "    criterion = torch.nn.CrossEntropyLoss()\n",
    "    correct, loss = 0, 0.0\n",
    "    net.eval()\n",
    "    with torch.no_grad():\n",
    "        for batch in tqdm(testloader, \"Testing\"):\n",
    "            images, labels = batch[\"image\"], batch[\"label\"]\n",
    "            outputs = net(images)\n",
    "            loss += criterion(outputs, labels).item()\n",
    "            _, predicted = torch.max(outputs.data, 1)\n",
    "            correct += (predicted == labels).sum().item()\n",
    "    accuracy = correct / len(testloader.dataset)\n",
    "    return loss, accuracy\n",
    "\n",
    "\n",
    "def run_centralised(epochs: int, lr: float, momentum: float = 0.9):\n",
    "    \"\"\"A minimal (but complete) training loop\"\"\"\n",
    "\n",
    "    # instantiate the model\n",
    "    model = Net(num_classes=10)\n",
    "\n",
    "    # define optimiser with hyperparameters supplied\n",
    "    optim = torch.optim.SGD(model.parameters(), lr=lr, momentum=momentum)\n",
    "\n",
    "    # get dataset and construct a dataloaders\n",
    "    trainset, testset = get_mnist()\n",
    "\n",
    "    # prepare train and test set\n",
    "    # transformation to convert images to tensors and apply normalisation\n",
    "    transforms = Compose([ToTensor(), Normalize((0.1307,), (0.3081,))])\n",
    "\n",
    "    # prepare train and test set\n",
    "    train_torch = trainset.map(\n",
    "        lambda image: {\"image\": transforms(image)}, input_columns=\"image\"\n",
    "    ).with_format(\"torch\")\n",
    "    test_torch = testset.map(\n",
    "        lambda image: {\"image\": transforms(image)}, input_columns=\"image\"\n",
    "    ).with_format(\"torch\")\n",
    "\n",
    "    trainloader = DataLoader(train_torch, batch_size=64, shuffle=True, num_workers=2)\n",
    "    testloader = DataLoader(test_torch, batch_size=128)\n",
    "\n",
    "    # train for the specified number of epochs\n",
    "    trained_model = train(model, trainloader, optim, epochs)\n",
    "\n",
    "    # training is completed, then evaluate model on the test set\n",
    "    loss, accuracy = test(trained_model, testloader)\n",
    "    print(f\"{loss = }\")\n",
    "    print(f\"{accuracy = }\")"
   ]
  },
  {
   "attachments": {},
   "cell_type": "markdown",
   "metadata": {},
   "source": [
    "Let's run this for 5 epochs (you'll see it reaching close to 99% accuracy -- as expected from a centralised setup with the MNIST dataset)"
   ]
  },
  {
   "cell_type": "code",
   "execution_count": null,
   "metadata": {
    "colab": {
     "base_uri": "https://localhost:8080/"
    },
    "outputId": "e8d9b429-178d-4924-e82f-4d4e52863788"
   },
   "outputs": [],
   "source": [
    "run_centralised(epochs=5, lr=0.01)"
   ]
  },
  {
   "attachments": {},
   "cell_type": "markdown",
   "metadata": {},
   "source": [
    "The above centralised formulation has worked just fine for some applications and to showcase the potential of AI in a variety of scenarios. However, as was discussed earlier in the session, centralised training is unsuitable for a larger range of settings were information cannot be collected in order to build a unified (centralised) dataset.\n",
    "\n",
    "# The Future of AI is Federated\n",
    "\n",
    "What are the key differences between Federated Learning and Centralised Training? I you could only pick you, probably you'd say:\n",
    "* Federated Learning is distributed -- the model is trained on-device by the participating clients.\n",
    "* Data remains private and is owned by a specific _client_ -- the data is never sent to the central server.\n",
    "\n",
    "The are several more differences. But the above two are the main ones to always consider and that are common to all flavours of Federated Learning (e.g. _cross-device_ or _cross-silo_). The remaining of this tutorial is going to focus in transforming the code we have written so far for the centralised setting and construct a Federated Learning pipeline using Flower and PyTorch.\n",
    "\n",
    "Let's begin! 🚀"
   ]
  },
  {
   "attachments": {},
   "cell_type": "markdown",
   "metadata": {},
   "source": [
    "## One Client, One Data Partition\n",
    "\n",
    "To start designing a Federated Learning pipeline we need to meet one of the key properties in FL: each client has its own data partition. To accomplish this with the MNIST dataset, we are going to generate N random partitions, where N is the total number of clients in our FL system, using Flower Datasets. Let's create 100 partitions and extract some statistics from one partition."
   ]
  },
  {
   "cell_type": "code",
   "execution_count": 10,
   "metadata": {},
   "outputs": [
    {
     "name": "stdout",
     "output_type": "stream",
     "text": [
      "number of images: 540\n"
     ]
    },
    {
     "data": {
      "text/plain": [
       "([<matplotlib.axis.XTick at 0x31cf80a30>,\n",
       "  <matplotlib.axis.XTick at 0x31cf80b20>,\n",
       "  <matplotlib.axis.XTick at 0x31bece110>,\n",
       "  <matplotlib.axis.XTick at 0x31cd8e6b0>,\n",
       "  <matplotlib.axis.XTick at 0x31d0e2b30>,\n",
       "  <matplotlib.axis.XTick at 0x31d0e3310>,\n",
       "  <matplotlib.axis.XTick at 0x31d0e3af0>,\n",
       "  <matplotlib.axis.XTick at 0x31d0e3190>,\n",
       "  <matplotlib.axis.XTick at 0x31d0e1b40>,\n",
       "  <matplotlib.axis.XTick at 0x31d8f46d0>],\n",
       " [Text(1, 0, '1'),\n",
       "  Text(2, 0, '2'),\n",
       "  Text(7, 0, '7'),\n",
       "  Text(8, 0, '8'),\n",
       "  Text(4, 0, '4'),\n",
       "  Text(5, 0, '5'),\n",
       "  Text(3, 0, '3'),\n",
       "  Text(9, 0, '9'),\n",
       "  Text(0, 0, '0'),\n",
       "  Text(6, 0, '6')])"
      ]
     },
     "execution_count": 10,
     "metadata": {},
     "output_type": "execute_result"
    },
    {
     "data": {
      "image/png": "[encoded data removed]",
      "text/plain": [
       "<Figure size 640x480 with 1 Axes>"
      ]
     },
     "metadata": {},
     "output_type": "display_data"
    }
   ],
   "source": [
    "from flwr_datasets import FederatedDataset\n",
    "from torch.utils.data import DataLoader\n",
    "from torchvision.transforms import ToTensor\n",
    "\n",
    "fds = FederatedDataset(dataset=\"mnist\", partitioners={\"train\": 100})\n",
    "test_dataset = fds.load_split(\"test\")\n",
    "\n",
    "partition = fds.load_partition(0, \"train\")\n",
    "partition_train_test = partition.train_test_split(test_size=0.1, seed=42)\n",
    "partition_train = partition_train_test[\"train\"]\n",
    "\n",
    "# count data points\n",
    "labels = partition_train[\"label\"]\n",
    "print(f\"number of images: {len(labels)}\")\n",
    "label_counts = Counter(labels)\n",
    "\n",
    "# visualise histogram\n",
    "bar = plt.bar(label_counts.keys(), label_counts.values())\n",
    "plt.bar_label(bar)\n",
    "plt.xticks([label for label in label_counts.keys()])"
   ]
  },
  {
   "attachments": {},
   "cell_type": "markdown",
   "metadata": {},
   "source": [
    "As you can see, the histogram of this partition is a bit different from the one we obtained at the beginning where we took the entire dataset into consideration. Because our data partitions are artificially constructed by sampling the MNIST dataset in an IID fashion, our Federated Learning example will not face sever _data heterogeneity_ issues (which is a fairly [active research topic](https://arxiv.org/abs/1912.04977)).\n",
    "\n",
    "Let's next define how our FL clients will behave\n",
    "\n",
    "## Defining a Flower Client\n",
    "\n",
    "You can think of a client in FL as an entity that owns some data and trains a model using this data. The caveat is that the model is being trained _collaboratively_ in Federation by multiple clients (sometimes up to hundreds of thousands) and, in most instances of FL, is sent by a central server.\n",
    "\n",
    "A Flower Client is a simple Python class with four distinct methods:\n",
    "\n",
    "* `fit()`: With this method, the client does on-device training for a number of epochs using its own data. At the end, the resulting model is sent back to the server for aggregation.\n",
    "\n",
    "* `evaluate()`: With this method, the server can evaluate the performance of the global model on the local validation set of a client. This can be used for instance when there is no centralised dataset on the server for validation/test. Also, this method can be use to asses the degree of personalisation of the model being federated.\n",
    "\n",
    "* `set_parameters()`: This method takes the parameters sent by the server and uses them to initialise the parameters of the local model that is ML framework specific (e.g. TF, Pytorch, etc).\n",
    "\n",
    "* `get_parameters()`: It extract the parameters from the local model and transforms them into a list of NumPy arrays. This ML framework-agnostic representation of the model will be sent to the server.\n",
    "\n",
    "Let's start by importing Flower!"
   ]
  },
  {
   "attachments": {},
   "cell_type": "markdown",
   "metadata": {},
   "source": [
    "Now let's define our Flower Client class:"
   ]
  },
  {
   "cell_type": "code",
   "execution_count": 12,
   "metadata": {},
   "outputs": [],
   "source": [
    "from collections import OrderedDict\n",
    "from typing import Dict, Tuple\n",
    "\n",
    "import torch\n",
    "from flwr.common import NDArrays, Scalar\n",
    "from flwr.client import NumPyClient\n",
    "\n",
    "\n",
    "class FlowerClient(NumPyClient):\n",
    "    def __init__(self, trainloader, valloader) -> None:\n",
    "        super().__init__()\n",
    "\n",
    "        self.trainloader = trainloader\n",
    "        self.valloader = valloader\n",
    "        self.model = Net(num_classes=10)\n",
    "\n",
    "    def set_parameters(self, parameters):\n",
    "        \"\"\"With the model parameters received from the server,\n",
    "        overwrite the uninitialise model in this class with them.\"\"\"\n",
    "\n",
    "        params_dict = zip(self.model.state_dict().keys(), parameters)\n",
    "        state_dict = OrderedDict({k: torch.Tensor(v) for k, v in params_dict})\n",
    "        # now replace the parameters\n",
    "        self.model.load_state_dict(state_dict, strict=True)\n",
    "\n",
    "    def get_parameters(self, config: Dict[str, Scalar]):\n",
    "        \"\"\"Extract all model parameters and convert them to a list of\n",
    "        NumPy arrays. The server doesn't work with PyTorch/TF/etc.\"\"\"\n",
    "        return [val.cpu().numpy() for _, val in self.model.state_dict().items()]\n",
    "\n",
    "    def fit(self, parameters, config):\n",
    "        \"\"\"This method train the model using the parameters sent by the\n",
    "        server on the dataset of this client. At then end, the parameters\n",
    "        of the locally trained model are communicated back to the server\"\"\"\n",
    "\n",
    "        # copy parameters sent by the server into client's local model\n",
    "        self.set_parameters(parameters)\n",
    "\n",
    "        # Define the optimizer -------------------------------------------------------------- Essentially the same as in the centralised example above\n",
    "        optim = torch.optim.SGD(self.model.parameters(), lr=0.01, momentum=0.9)\n",
    "\n",
    "        # do local training  -------------------------------------------------------------- Essentially the same as in the centralised example above (but now using the client's data instead of the whole dataset)\n",
    "        train(self.model, self.trainloader, optim, epochs=1)\n",
    "\n",
    "        # return the model parameters to the server as well as extra info (number of training examples in this case)\n",
    "        return self.get_parameters({}), len(self.trainloader), {}\n",
    "\n",
    "    def evaluate(self, parameters: NDArrays, config: Dict[str, Scalar]):\n",
    "        \"\"\"Evaluate the model sent by the server on this client's\n",
    "        local validation set. Then return performance metrics.\"\"\"\n",
    "\n",
    "        self.set_parameters(parameters)\n",
    "        loss, accuracy = test(\n",
    "            self.model, self.valloader\n",
    "        )  # <-------------------------- calls the `test` function, just what we did in the centralised setting (but this time using the client's local validation set)\n",
    "        # send statistics back to the server\n",
    "        return float(loss), len(self.valloader), {\"accuracy\": accuracy}"
   ]
  },
  {
   "attachments": {},
   "cell_type": "markdown",
   "metadata": {},
   "source": [
    "Spend a few minutes to inspect the `FlowerClient` class above. Please ask questions if there is something unclear !\n",
    "\n",
    "Then keen-eyed among you might have realised that if we were to fuse the client's `fit()` and `evaluate()` methods, we'll end up with essentially the same as in the `run_centralised()` function we used in the Centralised Training part of this tutorial. And it is true!! In Federated Learning, the way clients perform local training makes use of the same principles as more traditional centralised setup. The key difference is that the dataset now is much smaller and it's never _\"seen\"_ by the entity running the FL workload (i.e. the central server).\n",
    "\n",
    "\n",
    "Talking about the central server... we should define what strategy we want to make use of so the updated models sent from the clients back to the server at the end of the `fit()` method are aggregate.\n",
    "\n",
    "\n",
    "## Chosing a Flower Strategy\n",
    "\n",
    "\n",
    "A strategy sits at the core of the Federated Learning experiment. It is involved in all stages of a FL pipeline: sampling clients; sending the _global model_ to the clients so they can do `fit()`; receive the updated models from the clients and **aggregate** these to construct a new _global model_; define and execute global or federated evaluation; and more.\n",
    "\n",
    "Flower comes with [many strategies built-in](https://github.com/adap/flower/tree/main/src/py/flwr/server/strategy) and more to be available in the next release (`1.5` already!). For this tutorial, let's use what is arguable the most popular strategy out there: `FedAvg`.\n",
    "\n",
    "The way `FedAvg` works is simple but performs surprisingly well in practice. It is therefore one good strategy to start your experimentation. `FedAvg`, as its name implies, derives a new version of the _global model_ by taking the average of all the models sent by clients participating in the round. You can read all the details [in the paper](https://arxiv.org/abs/1602.05629).\n",
    "\n",
    "Let's see how we can define `FedAvg` using Flower. We use one of the callbacks called `evaluate_fn` so we can easily evaluate the state of the global model using a small centralised testset. Note this functionality is user-defined since it requires a choice in terms of ML-framework. (if you recall, Flower is framework agnostic).\n",
    "\n",
    "> This being said, centralised evaluation of the global model is only possible if there exists a centralised dataset that somewhat follows a similar distribution as the data that's spread across clients. In some cases having such centralised dataset for validation is not possible, so the only solution is to federate the evaluation of the _global model_. This is the default behaviour in Flower. If you don't specify teh `evaluate_fn` argument in your strategy, then, centralised global evaluation won't be performed."
   ]
  },
  {
   "cell_type": "code",
   "execution_count": 13,
   "metadata": {},
   "outputs": [],
   "source": [
    "from flwr.server.strategy import FedAvg\n",
    "\n",
    "def get_evaluate_fn(fds: FederatedDataset):\n",
    "    \"\"\"This is a function that returns a function. The returned\n",
    "    function (i.e. `evaluate_fn`) will be executed by the strategy\n",
    "    at the end of each round to evaluate the stat of the global\n",
    "    model.\"\"\"\n",
    "    testset = fds.load_split(\"test\")\n",
    "    transforms = Compose([ToTensor(), Normalize((0.1307,), (0.3081,))])\n",
    "    test_torch = testset.map(\n",
    "        lambda image: {\"image\": transforms(image)}, input_columns=\"image\"\n",
    "    ).with_format(\"torch\")\n",
    "\n",
    "    testloader = DataLoader(test_torch, batch_size=128)\n",
    "\n",
    "    def evaluate_fn(server_round: int, parameters, config):\n",
    "        \"\"\"This function is executed by the strategy it will instantiate\n",
    "        a model and replace its parameters with those from the global model.\n",
    "        The, the model will be evaluate on the test set (recall this is the\n",
    "        whole MNIST test set).\"\"\"\n",
    "\n",
    "        model = Net(num_classes=10)\n",
    "\n",
    "        # set parameters to the model\n",
    "        params_dict = zip(model.state_dict().keys(), parameters)\n",
    "        state_dict = OrderedDict({k: torch.Tensor(v) for k, v in params_dict})\n",
    "        model.load_state_dict(state_dict, strict=True)\n",
    "\n",
    "        # call test\n",
    "        loss, accuracy = test(\n",
    "            model, testloader\n",
    "        )  # <-------------------------- calls the `test` function, just what we did in the centralised setting\n",
    "        return loss, {\"accuracy\": accuracy}\n",
    "\n",
    "    return evaluate_fn\n",
    "\n",
    "\n",
    "# now we can define the strategy\n",
    "strategy = FedAvg(\n",
    "    fraction_fit=0.1,  # let's sample 10% of the client each round to do local training\n",
    "    fraction_evaluate=0.1,  # after each round, let's sample 20% of the clients to asses how well the global model is doing\n",
    "    min_available_clients=100,  # total number of clients available in the experiment\n",
    "    evaluate_fn=get_evaluate_fn(fds),\n",
    ")  # a callback to a function that the strategy can execute to evaluate the state of the global model on a centralised dataset"
   ]
  },
  {
   "attachments": {},
   "cell_type": "markdown",
   "metadata": {},
   "source": [
    "So far we have:\n",
    "* created the dataset partitions (one for each client)\n",
    "* defined the client class\n",
    "* decided on a strategy to use\n",
    "\n",
    "Now we just need to launch the Flower FL experiment... not so fast! just one final function: let's create another callback that the Simulation Engine will use in order to span VirtualClients. As you can see this is really simple: construct a FlowerClient object, assigning each their own data partition."
   ]
  },
  {
   "cell_type": "code",
   "execution_count": 14,
   "metadata": {},
   "outputs": [],
   "source": [
    "from flwr.common import Context\n",
    "from flwr.client import ClientApp\n",
    "from torchvision.transforms import ToTensor\n",
    "\n",
    "\n",
    "def generate_client_fn(fds: FederatedDataset):\n",
    "    def client_fn(context: Context):\n",
    "        \"\"\"Returns a FlowerClient containing the data partition\"\"\"\n",
    "\n",
    "        partition_id = int(context.node_config[\"partition-id\"])\n",
    "        partition = fds.load_partition(partition_id, \"train\")\n",
    "        partition_train_val = partition.train_test_split(test_size=0.1, seed=42)\n",
    "        partition_train = partition_train_val[\"train\"]\n",
    "        partition_val = partition_train_val[\"test\"]\n",
    "\n",
    "        transforms = Compose([ToTensor(), Normalize((0.1307,), (0.3081,))])\n",
    "\n",
    "        partition_train_torch = partition_train.map(\n",
    "            lambda image: {\"image\": transforms(image)}, input_columns=\"image\"\n",
    "        ).with_format(\"torch\")\n",
    "        partition_val_torch = partition_val.map(\n",
    "            lambda image: {\"image\": transforms(image)}, input_columns=\"image\"\n",
    "        ).with_format(\"torch\")\n",
    "\n",
    "        partition_val_dataloader = DataLoader(\n",
    "            partition_val_torch, batch_size=32, shuffle=False, num_workers=2\n",
    "        )\n",
    "        partition_train_dataloader = DataLoader(\n",
    "            partition_train_torch, batch_size=32, shuffle=False, num_workers=2\n",
    "        )\n",
    "\n",
    "        return FlowerClient(\n",
    "            trainloader=partition_train_dataloader, valloader=partition_val_dataloader\n",
    "        ).to_client()\n",
    "\n",
    "    return client_fn\n",
    "\n",
    "\n",
    "client_fn_callback = generate_client_fn(fds)\n",
    "client_app = ClientApp(client_fn=client_fn_callback)"
   ]
  },
  {
   "attachments": {},
   "cell_type": "markdown",
   "metadata": {},
   "source": [
    "Now we are ready to launch the FL experiment using Flower simulation.\n",
    "Doing 10 rounds should take less than 2 minutes on a CPU-only Colab instance <-- Flower Simulation is fast! 🚀\n",
    "\n",
    "You can then use the returned `History` object to either save the results to disk or do some visualisation (or both of course, or neither if you like chaos). Below you can see how you can plot the centralised accuracy obtained at the end of each round (including at the very beginning of the experiment) for the _global model_. This is want the function `evaluate_fn()` that we passed to the strategy reports."
   ]
  },
  {
   "cell_type": "code",
   "execution_count": 15,
   "metadata": {
    "colab": {
     "base_uri": "https://localhost:8080/"
    },
    "outputId": "9ad8dcea-8004-4c6e-a025-e168da636c88"
   },
   "outputs": [
    {
     "name": "stderr",
     "output_type": "stream",
     "text": [
      "\u001b[93mWARNING \u001b[0m:   PREVIEW FEATURE: ServerApp-register-main-function\n",
      "\n",
      "            This is a preview feature. It could change significantly or be removed\n",
      "            entirely in future versions of Flower.\n",
      "        \n",
      "\u001b[92mINFO \u001b[0m:      [INIT]\n",
      "\u001b[92mINFO \u001b[0m:      Requesting initial parameters from one random client\n",
      "\u001b[92mINFO \u001b[0m:      Received initial parameters from one random client\n",
      "\u001b[92mINFO \u001b[0m:      Evaluating initial global parameters\n",
      "Testing: 100%|██████████| 79/79 [00:02<00:00, 34.26it/s]\n",
      "\u001b[92mINFO \u001b[0m:      initial parameters (loss, other metrics): 182.32121324539185, {'accuracy': 0.1009}\n",
      "\u001b[92mINFO \u001b[0m:      \n",
      "\u001b[92mINFO \u001b[0m:      [ROUND 1]\n",
      "\u001b[92mINFO \u001b[0m:      configure_fit: strategy sampled 10 clients (out of 100)\n",
      "Training:   0%|          | 0/17 [00:00<?, ?it/s]\n",
      "Training:   6%|▌         | 1/17 [00:02<00:33,  2.09s/it]\n",
      "Training:  41%|████      | 7/17 [00:02<00:02,  4.26it/s]\n",
      "Training:  76%|███████▋  | 13/17 [00:02<00:00,  8.82it/s]\n",
      "Training: 100%|██████████| 17/17 [00:12<00:00,  1.36it/s]\n",
      "Training:   0%|          | 0/17 [00:00<?, ?it/s]\u001b[32m [repeated 5x across cluster] (Ray deduplicates logs by default. Set RAY_DEDUP_LOGS=0 to disable log deduplication, or see https://docs.ray.io/en/master/ray-observability/ray-logging.html#log-deduplication for more options.)\u001b[0m\n",
      "Training:  88%|████████▊ | 15/17 [00:02<00:00,  7.52it/s]\u001b[32m [repeated 8x across cluster]\u001b[0m\n",
      "Training: 100%|██████████| 17/17 [00:11<00:00,  1.45it/s]\u001b[32m [repeated 7x across cluster]\u001b[0m\n",
      "Training:   0%|          | 0/17 [00:00<?, ?it/s]\u001b[32m [repeated 4x across cluster]\u001b[0m\n",
      "Training:  76%|███████▋  | 13/17 [00:02<00:00,  7.02it/s]\u001b[32m [repeated 7x across cluster]\u001b[0m\n",
      "\u001b[92mINFO \u001b[0m:      aggregate_fit: received 10 results and 0 failures\n",
      "\u001b[93mWARNING \u001b[0m:   No fit_metrics_aggregation_fn provided\n",
      "Testing: 100%|██████████| 79/79 [00:02<00:00, 36.85it/s]\n",
      "\u001b[92mINFO \u001b[0m:      fit progress: (1, 181.19642853736877, {'accuracy': 0.1009}, 32.21302650007419)\n",
      "\u001b[92mINFO \u001b[0m:      configure_evaluate: strategy sampled 10 clients (out of 100)\n",
      "Testing:   0%|          | 0/2 [00:00<?, ?it/s]\n",
      "Training: 100%|██████████| 17/17 [00:12<00:00,  1.35it/s]\u001b[32m [repeated 4x across cluster]\u001b[0m\n",
      "Testing:  50%|█████     | 1/2 [00:02<00:02,  2.72s/it]\n",
      "Testing: 100%|██████████| 2/2 [00:12<00:00,  6.36s/it]\n",
      "Testing:   0%|          | 0/2 [00:00<?, ?it/s]\u001b[32m [repeated 4x across cluster]\u001b[0m\n",
      "Testing:  50%|█████     | 1/2 [00:02<00:02,  2.79s/it]\u001b[32m [repeated 4x across cluster]\u001b[0m\n",
      "Testing: 100%|██████████| 2/2 [00:12<00:00,  6.28s/it]\u001b[32m [repeated 6x across cluster]\u001b[0m\n",
      "Testing:   0%|          | 0/2 [00:00<?, ?it/s]\u001b[32m [repeated 5x across cluster]\u001b[0m\n",
      "Testing:  50%|█████     | 1/2 [00:02<00:02,  2.70s/it]\u001b[32m [repeated 5x across cluster]\u001b[0m\n",
      "\u001b[92mINFO \u001b[0m:      aggregate_evaluate: received 10 results and 0 failures\n",
      "\u001b[93mWARNING \u001b[0m:   No evaluate_metrics_aggregation_fn provided\n",
      "\u001b[92mINFO \u001b[0m:      \n",
      "\u001b[92mINFO \u001b[0m:      [ROUND 2]\n",
      "\u001b[92mINFO \u001b[0m:      configure_fit: strategy sampled 10 clients (out of 100)\n",
      "Training:   0%|          | 0/17 [00:00<?, ?it/s]\n",
      "Training:   6%|▌         | 1/17 [00:02<00:44,  2.79s/it]\n",
      "Training:  94%|█████████▍| 16/17 [00:03<00:00,  8.86it/s]\n",
      "Testing: 100%|██████████| 2/2 [00:12<00:00,  6.35s/it]\u001b[32m [repeated 4x across cluster]\u001b[0m\n",
      "Training:   0%|          | 0/17 [00:00<?, ?it/s]\u001b[32m [repeated 4x across cluster]\u001b[0m\n",
      "Training:  71%|███████   | 12/17 [00:03<00:00,  7.03it/s]\u001b[32m [repeated 10x across cluster]\u001b[0m\n",
      "Training: 100%|██████████| 17/17 [00:12<00:00,  1.31it/s]\u001b[32m [repeated 2x across cluster]\u001b[0m\n",
      "Training:   0%|          | 0/17 [00:00<?, ?it/s]\u001b[32m [repeated 5x across cluster]\u001b[0m\n",
      "Training:  65%|██████▍   | 11/17 [00:03<00:00,  6.18it/s]\u001b[32m [repeated 12x across cluster]\u001b[0m\n",
      "Training: 100%|██████████| 17/17 [00:13<00:00,  1.29it/s]\u001b[32m [repeated 5x across cluster]\u001b[0m\n",
      "\u001b[92mINFO \u001b[0m:      aggregate_fit: received 10 results and 0 failures\n",
      "Testing: 100%|██████████| 79/79 [00:02<00:00, 35.85it/s]\n",
      "\u001b[92mINFO \u001b[0m:      fit progress: (2, 180.23739671707153, {'accuracy': 0.1011}, 88.52174208313227)\n",
      "\u001b[92mINFO \u001b[0m:      configure_evaluate: strategy sampled 10 clients (out of 100)\n",
      "Testing:   0%|          | 0/2 [00:00<?, ?it/s]\n",
      "Testing:  50%|█████     | 1/2 [00:02<00:02,  2.78s/it]\n",
      "Training: 100%|██████████| 17/17 [00:13<00:00,  1.27it/s]\u001b[32m [repeated 4x across cluster]\u001b[0m\n"
     ]
    }
   ],
   "source": [
    "from flwr.server import ServerApp, LegacyContext, ServerConfig\n",
    "from flwr.server.workflow import DefaultWorkflow\n",
    "from flwr.simulation import run_simulation\n",
    "\n",
    "server_app = ServerApp()\n",
    "\n",
    "\n",
    "@server_app.main()\n",
    "def main(driver, context):\n",
    "    # Construct the LegacyContext\n",
    "    context = LegacyContext(\n",
    "        state=context.state,\n",
    "        config=ServerConfig(num_rounds=10),\n",
    "        strategy=strategy,\n",
    "    )\n",
    "\n",
    "    # Create the workflow\n",
    "    workflow = DefaultWorkflow()\n",
    "\n",
    "    # Execute\n",
    "    workflow(driver, context)\n",
    "\n",
    "    history = context.history\n",
    "    print(f\"{history.metrics_centralized = }\")\n",
    "\n",
    "    global_accuracy_centralised = history.metrics_centralized[\"accuracy\"]\n",
    "    round = [data[0] for data in global_accuracy_centralised]\n",
    "    acc = [100.0 * data[1] for data in global_accuracy_centralised]\n",
    "    plt.plot(round, acc)\n",
    "    plt.grid()\n",
    "    plt.ylabel(\"Accuracy (%)\")\n",
    "    plt.xlabel(\"Round\")\n",
    "    plt.title(\"MNIST - IID - 100 clients with 10 clients per round\")\n",
    "\n",
    "\n",
    "run_simulation(server_app=server_app, client_app=client_app, num_supernodes=100)"
   ]
  },
  {
   "cell_type": "markdown",
   "metadata": {},
   "source": [
    "## What's next?\n",
    "\n",
    "Well, if you enjoyed this content, consider giving us a ⭐️ on GitHub -> https://github.com/adap/flower\n",
    "\n",
    "* **[DOCS]** How about running your Flower clients on the GPU? find out how to do it in the [Flower Simulation Documentation](https://flower.ai/docs/framework/how-to-run-simulations.html)\n",
    "\n",
    "* **[VIDEO]** You can follow our [detailed line-by-line 9-videos tutorial](https://www.youtube.com/watch?v=cRebUIGB5RU&list=PLNG4feLHqCWlnj8a_E1A_n5zr2-8pafTB) about everything you need to know to design your own Flower Simulation pipelines\n",
    "\n",
    "* Check more advanced simulation examples the Flower GitHub:\n",
    "\n",
    "    * Flower simulation with Tensorflow/Keras: [![Open in Colab](https://colab.research.google.com/assets/colab-badge.svg)](https://github.com/adap/flower/tree/main/examples/simulation-tensorflow)\n",
    "\n",
    "    * Flower simulation with Pytorch: [![Open in Colab](https://colab.research.google.com/assets/colab-badge.svg)](https://github.com/adap/flower/tree/main/examples/simulation-pytorch)\n",
    "\n",
    "* **[DOCS]** All Flower examples: https://flower.ai/docs/examples/\n",
    "\n",
    "* **[VIDEO]** Our Youtube channel: https://www.youtube.com/@flowerlabs\n",
    "\n",
    "Don't forget to join our Slack channel: https://flower.ai/join-slack/\n"
   ]
  },
  {
   "cell_type": "markdown",
   "metadata": {},
   "source": []
  }
 ],
 "metadata": {
  "colab": {
   "provenance": [],
   "toc_visible": true
  },
  "kernelspec": {
   "display_name": "Python 3",
   "name": "python3"
  },
  "language_info": {
   "codemirror_mode": {
    "name": "ipython",
    "version": 3
   },
   "file_extension": ".py",
   "mimetype": "text/x-python",
   "name": "python",
   "nbconvert_exporter": "python",
   "pygments_lexer": "ipython3",
   "version": "3.10.13"
  }
 },
 "nbformat": 4,
 "nbformat_minor": 0
}
