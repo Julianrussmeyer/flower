{
 "cells": [
  {
   "cell_type": "markdown",
   "metadata": {},
   "source": [
    "# How to use `Partitioner`s\n",
    "\n",
    "The aim of this tutorial is to make you familiar with the available `Partitioner`s that `Flower Datasets` have out-of-the-box."
   ]
  },
  {
   "cell_type": "markdown",
   "metadata": {},
   "source": [
    "# What is `Partitioner`?\n",
    "\n",
    "`Partitioner` is an object responsible for dividing a dataset according to a chosen strategy. There are many `Partitioner`s that you can use and all of them inherit from the `Partitioner` object which is an abstract class providing basic structure and methods that need to be implemented for any new `Partitioner` to integrate with the rest of `Flower Datasets` code. The creation of different `Partitioner` differs but the behavior is the same = they produce the same type of objects.\n",
    "\n"
   ]
  },
  {
   "cell_type": "markdown",
   "metadata": {},
   "source": [
    "## IidPartitioner Creation\n",
    "\n",
    "Let's create (instantiate) the most basic partitioner, `IidPartitioner` and learn how it interacts with `FederatedDataset`."
   ]
  },
  {
   "cell_type": "code",
   "execution_count": null,
   "metadata": {},
   "outputs": [],
   "source": [
    "from flwr_datasets.partitioner import IidPartitioner\n",
    "\n",
    "partitioner = IidPartitioner(num_partitions=10)"
   ]
  },
  {
   "cell_type": "markdown",
   "metadata": {},
   "source": [
    "Right now the partitioner does not have access to any data therefore it has nothing to partition. `FederatedDataset` is responsible for assigning data to a `partitioner`(s).\n",
    "\n",
    "What **part** of the data is assigned to partitioner?\n",
    "\n",
    "In centralized (traditional) ML, there exist a strong concept of the splits of the dataset. Typically you can hear about train/valid/test splits. In FL research, if we don't have an already divided datasets (e.g. by `user_id`), we simulate such division of a centralized dataset. The goal of that operation is to resemble an FL scenario where the data is spread around the clients. In Flower Datasets you decide what split of the dataset will be partitioned. You can also resplit the datasets such that you use a more non-custom split, or merge the whole train and test split into a single dataset but that's not a part of this tutorial.\n",
    "\n",
    "Let's see how you specify the split for partitioning."
   ]
  },
  {
   "cell_type": "markdown",
   "metadata": {},
   "source": [
    "## How do you specify the split to partition?\n",
    "\n",
    "The specification of the split happens as you specify the `partitioners` argument for `FederatedDataset`. It maps `partition_id: str` to the partitioner that will be used for that split of the data. In the example below we're using `train` split of the `cifar10` dataset to partition.\n",
    "\n",
    "(If you're unsure why/how we chose the name of the `dataset` and how to customize it, see the first tutorial.)"
   ]
  },
  {
   "cell_type": "code",
   "execution_count": null,
   "metadata": {},
   "outputs": [
    {
     "data": {
      "text/plain": [
       "Dataset({\n",
       "    features: ['img', 'label'],\n",
       "    num_rows: 5000\n",
       "})"
      ]
     },
     "execution_count": null,
     "metadata": {},
     "output_type": "execute_result"
    }
   ],
   "source": [
    "from flwr_datasets import FederatedDataset\n",
    "\n",
    "fds = FederatedDataset(dataset=\"cifar10\", partitioners={\"train\": partitioner})\n",
    "iid_partition = fds.load_partition(partition_id=0)\n",
    "iid_partition"
   ]
  },
  {
   "cell_type": "code",
   "execution_count": null,
   "metadata": {},
   "outputs": [
    {
     "data": {
      "text/plain": [
       "{'img': [<PIL.PngImagePlugin.PngImageFile image mode=RGB size=32x32>,\n",
       "  <PIL.PngImagePlugin.PngImageFile image mode=RGB size=32x32>,\n",
       "  <PIL.PngImagePlugin.PngImageFile image mode=RGB size=32x32>],\n",
       " 'label': [1, 2, 6]}"
      ]
     },
     "execution_count": null,
     "metadata": {},
     "output_type": "execute_result"
    }
   ],
   "source": [
    "# Let's take a look at the first three samples\n",
    "iid_partition[:3]"
   ]
  },
  {
   "cell_type": "markdown",
   "metadata": {},
   "source": [
    "## Using Different `Partitioners`"
   ]
  },
  {
   "cell_type": "markdown",
   "metadata": {},
   "source": [
    "**Why would you need to use different `Partitioner`s?**\n",
    "\n",
    "There are a few way that the data partitioning is simulated in the literature, `Flower Datasets` let's you work with the different approaches that have been proposed so far. If enable you to simulate partitions with different properties and different levels of heterogeneity.\n",
    "\n",
    "\n",
    "**How to use different `Partitioner`s?**\n",
    "\n",
    "To use a different `Partitioner` you just need to create a different object (note it has typically different parameters that you need to specify). Then you pass as before to the `FederatedDataset`.\n",
    "\n",
    "<div style=\"max-width:80%; margin-left: auto; margin-right: auto\">\n",
    "    <img src=\"./_static/tutorial-quickstart/partitioner-flexibility.png\" alt=\"Partitioner flexibility display\">\n",
    "</div>\n",
    "See the only changing part in yellow.\n"
   ]
  },
  {
   "cell_type": "markdown",
   "metadata": {},
   "source": [
    "### `PathologicalPartitioner`\n",
    "\n",
    "Now, we are going to create partitions that have only a subset of labels per in each partition."
   ]
  },
  {
   "cell_type": "code",
   "execution_count": null,
   "metadata": {},
   "outputs": [
    {
     "data": {
      "text/plain": [
       "Dataset({\n",
       "    features: ['img', 'label'],\n",
       "    num_rows: 2501\n",
       "})"
      ]
     },
     "execution_count": null,
     "metadata": {},
     "output_type": "execute_result"
    }
   ],
   "source": [
    "from flwr_datasets.partitioner import PathologicalPartitioner\n",
    "\n",
    "pathological_partitioner = PathologicalPartitioner(\n",
    "    num_partitions=10, partition_by=\"label\", num_classes_per_partition=2\n",
    ")\n",
    "\n",
    "fds = FederatedDataset(\n",
    "    dataset=\"cifar10\", partitioners={\"train\": pathological_partitioner}\n",
    ")\n",
    "partition_pathological = fds.load_partition(partition_id=0)\n",
    "partition_pathological"
   ]
  },
  {
   "cell_type": "code",
   "execution_count": null,
   "metadata": {},
   "outputs": [
    {
     "data": {
      "text/plain": [
       "{'img': [<PIL.PngImagePlugin.PngImageFile image mode=RGB size=32x32>,\n",
       "  <PIL.PngImagePlugin.PngImageFile image mode=RGB size=32x32>,\n",
       "  <PIL.PngImagePlugin.PngImageFile image mode=RGB size=32x32>],\n",
       " 'label': [0, 0, 7]}"
      ]
     },
     "execution_count": null,
     "metadata": {},
     "output_type": "execute_result"
    }
   ],
   "source": [
    "# Let's take a look at the first three samples\n",
    "partition_pathological[:3]"
   ]
  },
  {
   "cell_type": "code",
   "execution_count": null,
   "metadata": {},
   "outputs": [
    {
     "data": {
      "text/plain": [
       "array([0, 7])"
      ]
     },
     "execution_count": null,
     "metadata": {},
     "output_type": "execute_result"
    }
   ],
   "source": [
    "import numpy as np\n",
    "\n",
    "np.unique(partition_pathological[\"label\"])"
   ]
  },
  {
   "cell_type": "markdown",
   "metadata": {},
   "source": [
    "# Final remarks\n",
    "Congratulations, you now know how to use different `Partitioner`s with `FederatedDataset` in Flower Datasets.\n",
    "\n",
    "# Next Steps\n",
    "This is the second quickstart tutorial from the Flower Datasets series. See next tutorials:\n",
    "\n",
    "* Visualize Label Distribution [link](https://flower.ai/docs/datasets/how-to-visualize-label-distribution.html).\n",
    "\n",
    "Previous tutorials:\n",
    "* Quickstart Basics [link](https://flower.ai/docs/datasets/quickstart-tutorial.html)"
   ]
  }
 ],
 "metadata": {
  "kernelspec": {
   "display_name": "flwr",
   "language": "python",
   "name": "python3"
  }
 },
 "nbformat": 4,
 "nbformat_minor": 2
}
